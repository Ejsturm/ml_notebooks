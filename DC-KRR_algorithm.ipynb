{
 "cells": [
  {
   "cell_type": "markdown",
   "metadata": {},
   "source": [
    "##### This notebook was set up by Erica Sturm. Send your questions and comments to esturm@bnl.gov.\n",
    "##### Ejs recommends DOI 10.1145/3205289.3205290  at https://dl.acm.org/doi/10.1145/3205289.3205290 by You, Y. et al for guiding principals."
   ]
  },
  {
   "cell_type": "markdown",
   "metadata": {},
   "source": [
    "## Load relevant libraries"
   ]
  },
  {
   "cell_type": "code",
   "execution_count": 1,
   "metadata": {},
   "outputs": [],
   "source": [
    "%load_ext autoreload\n",
    "%autoreload 2"
   ]
  },
  {
   "cell_type": "code",
   "execution_count": 2,
   "metadata": {},
   "outputs": [],
   "source": [
    "import os\n",
    "complete_path = os.getcwd()\n",
    "if 'nb' in complete_path:\n",
    "    os.chdir(\"..\")"
   ]
  },
  {
   "cell_type": "code",
   "execution_count": 3,
   "metadata": {},
   "outputs": [],
   "source": [
    "import numpy as np\n",
    "import pickle\n",
    "import matplotlib.pyplot as plt\n",
    "import matplotlib.font_manager as fm\n",
    "import matplotlib\n",
    "import os\n",
    "import pandas as pd\n",
    "import yaml\n",
    "from IPython.display import clear_output\n",
    "import warnings"
   ]
  },
  {
   "cell_type": "code",
   "execution_count": 4,
   "metadata": {},
   "outputs": [],
   "source": [
    "from sklearn.kernel_ridge import KernelRidge\n",
    "import time\n",
    "from mlnrg.utils.logger import log\n",
    "\n",
    "from sklearn.metrics import pairwise_distances\n",
    "from sklearn.metrics.pairwise import pairwise_kernels"
   ]
  },
  {
   "cell_type": "code",
   "execution_count": 5,
   "metadata": {},
   "outputs": [],
   "source": [
    "import matplotlib as mpl\n",
    "mpl.rcParams['figure.dpi']= 300\n",
    "from mlnrg.utils.mpl_at_utils import MPLAdjutant\n",
    "from mlnrg.loader import NRGData"
   ]
  },
  {
   "cell_type": "markdown",
   "metadata": {},
   "source": [
    "## Choose data sets"
   ]
  },
  {
   "cell_type": "code",
   "execution_count": 6,
   "metadata": {},
   "outputs": [],
   "source": [
    "#kondo = pd.read_csv('data/Kondo_411267_trials_with_headers.csv')\n",
    "#anderson = pd.read_csv('data/Anderson_599578_trials_with_headers.csv')\n",
    "#grid = 'pd.read_csv(data/Omega_grid_values.csv')\n",
    "data_set = pd.read_csv('data/Anderson_599578_trials_with_headers.csv')"
   ]
  },
  {
   "cell_type": "code",
   "execution_count": 7,
   "metadata": {},
   "outputs": [],
   "source": [
    "#fps_indexes = pickle.load(open(\"results/fps_files/anderson_fps.pkl\", \"rb\"))\n",
    "#rps_indexes = pickle.load(open(\"results/fps_files/kondo_fps.pkl\", \"rb\"))\n",
    "point_indexes = pickle.load(open(\"results/fps_files/anderson_fps.pkl\", \"rb\"))"
   ]
  },
  {
   "cell_type": "markdown",
   "metadata": {},
   "source": [
    "#### Choose either furthest point sampling (FPS) or random point sampling (RPS) to train and test with. It is important to use these (without shfffling) so that the trials in the training/validation/test sets are the same as those in the NN!"
   ]
  },
  {
   "cell_type": "code",
   "execution_count": 8,
   "metadata": {},
   "outputs": [],
   "source": [
    "all_training_idx = list(point_indexes[0]['train'])\n",
    "all_validation_idx = list(point_indexes[0]['valid'])\n"
   ]
  },
  {
   "cell_type": "markdown",
   "metadata": {},
   "source": [
    "#### Specify number of trials to be used in training. Default is 50K!"
   ]
  },
  {
   "cell_type": "code",
   "execution_count": 9,
   "metadata": {},
   "outputs": [
    {
     "name": "stderr",
     "output_type": "stream",
     "text": [
      "2020-09-24 16:46:39,213 INFO    [<ipython-input-9-9f82060a93ab>:15] \n",
      "To attain the desired number of subsets, 10 trials had to be removed from training.\n",
      "2020-09-24 16:46:39,224 INFO    [<ipython-input-9-9f82060a93ab>:32] \n",
      "Original number of training trials:\t575578\n",
      "Remaining number of training trials:\t575568\n",
      "Removed trials:\t\t10 (0.0017374% of the total trials)\n",
      "Number of subsets:\t12\n",
      "Trials per subset:\t47964.0\n"
     ]
    }
   ],
   "source": [
    "total_trials = 50000 # Default is 50000\n",
    "unscaled_tr_features = (data_set.loc[all_training_idx[:],'U':'T']).to_numpy()\n",
    "tr_targets = (data_set.iloc[all_training_idx[:], 8:]).to_numpy()\n",
    "all_starting_trials = len(unscaled_tr_features)\n",
    "\n",
    "unscaled_val_features = (data_set.loc[all_validation_idx,'U':'T']).to_numpy()\n",
    "val_targets = (data_set.iloc[all_validation_idx, 8:]).to_numpy()\n",
    "\n",
    "################################################################################################\n",
    "# Default = 10; try to have subset sizes be 50K trials or fewer!!!!\n",
    "number_subsets = 12\n",
    "################################################################################################\n",
    "remainder_trials = len(unscaled_tr_features) % number_subsets\n",
    "log.info(\"\\nTo attain the desired number of subsets, %d trials had to be removed from training.\" \n",
    "         % remainder_trials\n",
    "        )\n",
    "\n",
    "if (remainder_trials >= len(unscaled_tr_features)*0.001):\n",
    "    log.warn(\"The number of subsets requested will require the removal of %d, \"\\\n",
    "             \"more than 1/1000 of the available training data.\" \n",
    "            )\n",
    "if (remainder_trials != 0):    \n",
    "    unscaled_tr_features = unscaled_tr_features[:-1*remainder_trials]\n",
    "    tr_targets = tr_targets[:-1*remainder_trials]\n",
    "    \n",
    "subset_size = len(unscaled_tr_features)/number_subsets # (Will be 5K if using all default values.)\n",
    "\n",
    "log.info(\"\\nOriginal number of training trials:\\t%d\\nRemaining number of training trials:\\t%d\"\\\n",
    "        \"\\nRemoved trials:\\t\\t%d (%.5g%% of the total trials)\\nNumber of subsets:\\t%d\\n\"\\\n",
    "        \"Trials per subset:\\t%6.1f\"\n",
    "         % (all_starting_trials, len(unscaled_tr_features), remainder_trials, \n",
    "            (100*remainder_trials/all_starting_trials), number_subsets, subset_size) \n",
    "        )\n",
    "\n",
    "subset_size = int(subset_size)"
   ]
  },
  {
   "cell_type": "markdown",
   "metadata": {},
   "source": [
    "#### Do symlog scaling if desired. Comment or uncomment as desired."
   ]
  },
  {
   "cell_type": "code",
   "execution_count": 10,
   "metadata": {},
   "outputs": [],
   "source": [
    "# # Start with B: rescale with symlog after adjusting for B=0 cases.\n",
    "# m = (data_set[data_set['B'] != 0]['B']).abs().min()\n",
    "# data_set.loc[list((data_set[data_set['B'] == 0]).index), 'B'] = m/10\n",
    "\n",
    "# sign_B = np.sign(data_set['B'])\n",
    "# data_set.loc[:, 'B'] = sign_B * np.log10(np.abs(data_set.loc[:, 'B']))\n",
    "# #data_set.rename(columns={'B': 'symlog10 B'}, inplace=True)\n",
    "\n",
    "\n",
    "# # Now do T: rescale with regular log after adjusting for T=0 cases.\n",
    "# m = (data_set[data_set['T'] != 0]['T']).abs().min()\n",
    "# data_set.loc[list((data_set[data_set['T'] == 0]).index), 'T'] = m/10\n",
    "# data_set.loc[:, 'T'] = np.log10(data_set.loc[:, 'T'])\n",
    "# #data_set.rename(columns={'T': 'log10 T'}, inplace=True)\n",
    "\n",
    "# # Now do Gamma: recale with regular log.\n",
    "# data_set.loc[:, 'Gamma'] = np.log10(data_set.loc[:, 'Gamma'])\n",
    "# #data_set.rename(columns={'Gamma': 'log10 Gamma'}, inplace=True)"
   ]
  },
  {
   "cell_type": "markdown",
   "metadata": {},
   "source": [
    "#### Feature scaling."
   ]
  },
  {
   "cell_type": "code",
   "execution_count": 11,
   "metadata": {},
   "outputs": [
    {
     "name": "stderr",
     "output_type": "stream",
     "text": [
      "2020-09-24 16:46:39,333 INFO    [<ipython-input-11-cad79882db0b>:23] \n",
      "The original mean +/- std of the training features: 0.0184 +/- 0.0517.\n",
      "The rescaled mean +/- std of the training features: 0.0000 +/- 1.0000.\n",
      "\n",
      "The original mean +/- std of the validation features: 0.0184 +/- 0.0520.\n",
      "The rescaled mean +/- std of the validation features: -0.0006 +/- 1.0010.\n"
     ]
    }
   ],
   "source": [
    "mu_scaling = unscaled_tr_features.mean(axis=0)\n",
    "std_scaling = unscaled_tr_features.std(axis=0)\n",
    "\n",
    "tr_features = (unscaled_tr_features - mu_scaling) / std_scaling\n",
    "val_features = (unscaled_val_features - mu_scaling) / std_scaling\n",
    "\n",
    "\n",
    "unscaled_val_mean = np.mean(unscaled_val_features.mean(axis=0))\n",
    "unscaled_val_std = np.mean(unscaled_val_features.std(axis=0))\n",
    "\n",
    "rescaled_tr_mean = np.mean(tr_features.mean(axis=0))\n",
    "rescaled_tr_std = np.mean(tr_features.std(axis=0))\n",
    "rescaled_val_mean = np.mean(val_features.mean(axis=0))\n",
    "rescaled_val_std = np.mean(val_features.std(axis=0))\n",
    "\n",
    "log.info(\"\\nThe original mean +/- std of the training features: %.4f +/- %.4f.\\n\" \\\n",
    "         \"The rescaled mean +/- std of the training features: %.4f +/- %.4f.\\n\\n\" \\\n",
    "         \"The original mean +/- std of the validation features: %.4f +/- %.4f.\\n\" \\\n",
    "         \"The rescaled mean +/- std of the validation features: %.4f +/- %.4f.\"\n",
    "         % (np.mean(mu_scaling), np.mean(std_scaling), \n",
    "           rescaled_tr_mean, rescaled_tr_std,\n",
    "           unscaled_val_mean, unscaled_val_std,\n",
    "           rescaled_val_mean, rescaled_val_std\n",
    "           )\n",
    "        )"
   ]
  },
  {
   "cell_type": "markdown",
   "metadata": {},
   "source": [
    "## Set up machine learning architecture, train, run validation."
   ]
  },
  {
   "cell_type": "markdown",
   "metadata": {},
   "source": [
    "#### Set up all hyperparameters and initialize KRR model: choose values for \"gamma\" the kernel radius and \"alpha\" the regularization term. The kernel is a constant set to \"Laplacian\": $k(x,y) = \\mathrm{exp}(-\\gamma||x-y||_1)$. The \"number_subsets\" is the number of mini-training-sets that will each have a KRR fitted to them prior to averaging for the final result. A larger number of subsets (and thus fewer training trials per subset) increases error in the final result!\n",
    "\n",
    "#### The defaults are number_subsets = 10, gamma=0.1 and alpha=0 (the same as Arsenault's values). Note that in the literature the kernel radius is denoted $\\frac{1}{\\sigma}$ and the regularization term is $\\lambda$. "
   ]
  },
  {
   "cell_type": "code",
   "execution_count": 12,
   "metadata": {},
   "outputs": [
    {
     "name": "stderr",
     "output_type": "stream",
     "text": [
      "2020-09-24 16:46:39,368 INFO    [<ipython-input-12-4a5b9b0c0944>:8] Subset 0 has 47964 trials.\n",
      "2020-09-24 16:46:39,368 INFO    [<ipython-input-12-4a5b9b0c0944>:8] Subset 1 has 47964 trials.\n",
      "2020-09-24 16:46:39,369 INFO    [<ipython-input-12-4a5b9b0c0944>:8] Subset 2 has 47964 trials.\n",
      "2020-09-24 16:46:39,369 INFO    [<ipython-input-12-4a5b9b0c0944>:8] Subset 3 has 47964 trials.\n",
      "2020-09-24 16:46:39,370 INFO    [<ipython-input-12-4a5b9b0c0944>:8] Subset 4 has 47964 trials.\n",
      "2020-09-24 16:46:39,370 INFO    [<ipython-input-12-4a5b9b0c0944>:8] Subset 5 has 47964 trials.\n",
      "2020-09-24 16:46:39,371 INFO    [<ipython-input-12-4a5b9b0c0944>:8] Subset 6 has 47964 trials.\n",
      "2020-09-24 16:46:39,371 INFO    [<ipython-input-12-4a5b9b0c0944>:8] Subset 7 has 47964 trials.\n",
      "2020-09-24 16:46:39,372 INFO    [<ipython-input-12-4a5b9b0c0944>:8] Subset 8 has 47964 trials.\n",
      "2020-09-24 16:46:39,372 INFO    [<ipython-input-12-4a5b9b0c0944>:8] Subset 9 has 47964 trials.\n",
      "2020-09-24 16:46:39,373 INFO    [<ipython-input-12-4a5b9b0c0944>:8] Subset 10 has 47964 trials.\n",
      "2020-09-24 16:46:39,373 INFO    [<ipython-input-12-4a5b9b0c0944>:8] Subset 11 has 47964 trials.\n"
     ]
    }
   ],
   "source": [
    "alpha = 0 # Default = 0.0\n",
    "gamma = 0.01 # Default = 0.1\n",
    "\n",
    "all_subset_features = np.array_split(tr_features, number_subsets) \n",
    "all_subset_targets = np.array_split(tr_targets, number_subsets)\n",
    "\n",
    "for ii in range(number_subsets):\n",
    "    log.info(\"Subset %d has %d trials.\" % (ii, len(all_subset_features[ii])))\n",
    "\n",
    "# Set up model\n",
    "krr_Model = KernelRidge(kernel='laplacian', gamma=gamma, alpha=alpha)"
   ]
  },
  {
   "cell_type": "markdown",
   "metadata": {},
   "source": [
    "#### Set up a bunch of empty arrays to organize all the palaver that is going to happen during training. The comments should explain what each is for. (As of this writing (2020-09-04) not all are used, but I have plans...-Ejs)"
   ]
  },
  {
   "cell_type": "code",
   "execution_count": 13,
   "metadata": {},
   "outputs": [],
   "source": [
    "# These are going to be used below for the user query subroutine according to this eqn: (K(train))\n",
    "\n",
    "# These two store EACH SUBSET's features/targets in a single row. \n",
    "# Eg for subset 0, subset_feature[0] == all features from that subset's trials in one single long row.\n",
    "# If the user wants to query the model for a new trial (like the whole test set), these values are necessary.\n",
    "subset_features = np.empty([number_subsets, tr_features.shape[1]*subset_size])\n",
    "subset_targets = np.empty([number_subsets, tr_targets.shape[1]*subset_size])\n",
    "\n",
    "# The weights of each subset's trained model. In the literature this is often called 'alpha' but \n",
    "# in Scikit that word 'alpha' is the regularization term. \n",
    "alpha_weights = np.empty([number_subsets, subset_size*tr_targets.shape[1]]) \n",
    "\n",
    "# The error of each subset's model. The first column is that of the training data and should be nearly 1.0.\n",
    "# The second column is that of the validation set.\n",
    "iter_costs = np.empty([number_subsets, 2])\n",
    "\n",
    "# Sum of all predictions for the final combined model.\n",
    "sum_predictions = np.zeros([1, tr_targets.shape[1]]) \n"
   ]
  },
  {
   "cell_type": "markdown",
   "metadata": {},
   "source": [
    "#### This cell exists so that the user may pick up where they left off; at the end of each iteration of the below for-loop a checkpoint file is saved locally. Should the job die in the middle, the user would run this cell to re-initialize the experiment and pick up where it left off. All previous completed trials will be stored, so if it died in the middle of itreation N, then the stored info is up to and including N-1. "
   ]
  },
  {
   "cell_type": "code",
   "execution_count": 14,
   "metadata": {},
   "outputs": [
    {
     "name": "stdout",
     "output_type": "stream",
     "text": [
      "Reloading from a checkpoint with these values: \n",
      "kondo set with fps sampling\n",
      "12 subsets, 47964 trials per subset\n",
      "Parameters: alpha = 0 and gamma = 0.01\n",
      "Finished subset 10, (started at 0); start at 10+1=11\n"
     ]
    }
   ],
   "source": [
    "load_from_checkpoint = True\n",
    "\n",
    "if (load_from_checkpoint == True):\n",
    "    # MODIFY THE FILE NAME IN THE LINE BELOW TO LOAD FROM A CHECKPOINT!\n",
    "    ckpt_name = open('results/DC-KRR/checkpoints/CKPT_anderson_fps_alpha0_gamma0.01.pkl', 'rb')\n",
    "    \n",
    "    ckpt_data = pickle.load(ckpt_name)\n",
    "    \n",
    "    # Reset all job details to pick up where we left off.....\n",
    "    all_subset_features = ckpt_data[\"all_subset_features\"]\n",
    "    all_subset_targets = ckpt_data[\"all_subset_targets\"]\n",
    "    subset_features = ckpt_data[\"subset_features\"]\n",
    "    subset_targets = ckpt_data[\"subset_targets\"]\n",
    "    number_subsets = ckpt_data[\"number_subsets\"]\n",
    "    subset_size = ckpt_data[\"trials_per_set\"]\n",
    "    alpha = ckpt_data[\"alpha\"]\n",
    "    gamma = ckpt_data[\"gamma\"]\n",
    "    iter_costs = ckpt_data[\"iter_costs\"]\n",
    "    alpha_weights = ckpt_data[\"alpha_weights\"]\n",
    "    sum_predictions = ckpt_data[\"sum_predictions\"]\n",
    "    \n",
    "    # Remind the user what we were up to when things died. \n",
    "    print(\"Reloading from a checkpoint with these values: \")\n",
    "    print(\"%s set with %s sampling\\n%d subsets, %d trials per subset\" \n",
    "          % (ckpt_data[\"set\"], ckpt_data[\"sampling\"], number_subsets, subset_size)\n",
    "         )\n",
    "    print(\"Parameters: alpha = %1.5g and gamma = %1.5g\" % (alpha, gamma))\n",
    "    print(\"Finished subset %d, (started at 0); start at %d+1=%d\" \n",
    "          % (ckpt_data[\"finished_iteration\"], ckpt_data[\"finished_iteration\"], ckpt_data[\"finished_iteration\"]+1)\n",
    "         )"
   ]
  },
  {
   "cell_type": "markdown",
   "metadata": {},
   "source": [
    "#### Run DC-KRR. In each iteration a single subset of training data is fit and the validation set is tested against that \"mini-model.\" At the end all results are averaged for a final result.\n",
    "\n",
    "#### This is a very complicated algorithm because the Scikit library does not have a native subroutine DC-KRR. The comments should guide you through each step. Ejs recommends DOI 10.1145/3205289.3205290  at https://dl.acm.org/doi/10.1145/3205289.3205290 by You, Y. et al for a crash-course on how to think about this method's family. "
   ]
  },
  {
   "cell_type": "code",
   "execution_count": 15,
   "metadata": {},
   "outputs": [
    {
     "name": "stdout",
     "output_type": "stream",
     "text": [
      "************************************************\n",
      "****** Restarting from a previous save!!! ******\n",
      "************************************************\n",
      "\n",
      "Starting iteration s=12/12\n",
      "Iteration complte in: 713 seconds\n",
      "Training Cost = 1\n",
      "Validation Cost = 0.74964\n",
      "~~~~~~~~~~~~~~~~~~~~~~~~~~~~~~~~\n"
     ]
    }
   ],
   "source": [
    "time_start = time.time()\n",
    "\n",
    "if (load_from_checkpoint == True):\n",
    "    start_iter = ckpt_data[\"finished_iteration\"]+1\n",
    "    print(\"************************************************\\n\" \\\n",
    "          \"****** Restarting from a previous save!!! ******\\n\"\\\n",
    "          \"************************************************\\n\"\n",
    "         )\n",
    "else:\n",
    "    start_iter = 0\n",
    "    \n",
    "for s in range(start_iter, number_subsets):\n",
    "    print(\"Starting iteration s=%d/%d\" % (s+1, number_subsets))\n",
    "    t0 = time.time()\n",
    "    iter_features = all_subset_features[s]\n",
    "    iter_targets = all_subset_targets[s]\n",
    "\n",
    "    # Each row represents all featuer/target info for all trials in that subset!\n",
    "    subset_features[s] = iter_features.flatten()\n",
    "    subset_targets[s] = iter_targets.flatten()  \n",
    "\n",
    "    # Fit each training subset. Compute cost too.\n",
    "    iter_model = krr_Model.fit(iter_features, iter_targets)\n",
    "    with warnings.catch_warnings():\n",
    "        warnings.filterwarnings(\"ignore\")\n",
    "        iter_tr_cost = iter_model.score(iter_features, iter_targets)\n",
    "        \n",
    "    # The subset's kernel weights.     \n",
    "    alpha_weights[s] = iter_model.dual_coef_.flatten()\n",
    "    \n",
    "    #--------------------------------------------------------------------\n",
    "    # NOW RUN THE VALIDATION SET AGAINST EACH SUBSET'S TRAINED KRR MODEL. \n",
    "    #--------------------------------------------------------------------\n",
    "    \n",
    "    # Compute the (Laplacian) kernel of the validation features \n",
    "    # and this training subset's features.\n",
    "    kernel_of_val_and_tr = pairwise_kernels(val_features, iter_features, \n",
    "                                            metric='laplacian', \n",
    "                                            gamma=gamma, \n",
    "                                            alpha=alpha, \n",
    "                                            filter_params=True\n",
    "                                           )\n",
    "    \n",
    "    # Compute the dot product of the kernel and model's weights.\n",
    "    iter_prediction = np.dot(kernel_of_val_and_tr, iter_model.dual_coef_)\n",
    "\n",
    "    # Compute cost of the model when the validation set is used. \n",
    "    u_value = ((val_targets - iter_prediction)**2).sum()\n",
    "    v_value = ((val_targets - val_targets.mean())**2).sum()\n",
    "    iter_val_cost = 1 - (u_value/v_value)\n",
    "    \n",
    "    # Store the model's own mini-training set cost and the validation set cost. \n",
    "    iter_costs[s,0] = iter_tr_cost\n",
    "    iter_costs[s,1] = iter_val_cost\n",
    "        \n",
    "    # Keep running sum of each iteration's validation set results.\n",
    "    # This is going to be used after all mini-training sets are done. See below.\n",
    "    sum_predictions = np.add(sum_predictions, iter_prediction)\n",
    "    \n",
    "    iter_time = time.time() - t0\n",
    "    \n",
    "    print(\"Iteration complte in: %.3g seconds\\nTraining Cost = %.5g\\nValidation Cost = %.5g\\n~~~~~~~~~~~~~~~~~~~~~~~~~~~~~~~~\" \n",
    "          % (iter_time, iter_tr_cost, iter_val_cost)\n",
    "         )\n",
    "    \n",
    "    # Save current progress at the end of the for-loop as a checkpoint because my computer is being a dweeb.\n",
    "    dckrr_ckpt = {\n",
    "        \"set\": \"kondo\",\n",
    "        \"sampling\": \"fps\",\n",
    "        \"tr_set_size\": len(tr_features),\n",
    "        \"number_subsets\": number_subsets,\n",
    "        \"trials_per_set\": subset_size,\n",
    "        \"finished_iteration\": s,\n",
    "        \"all_subset_features\": all_subset_features,\n",
    "        \"all_subset_targets\": all_subset_targets,\n",
    "        \"subset_features\": subset_features,\n",
    "        \"subset_targets\": subset_targets,\n",
    "        \"alpha\": alpha,\n",
    "        \"gamma\": gamma,\n",
    "        \"iter_costs\": iter_costs,\n",
    "        \"alpha_weights\": alpha_weights,\n",
    "        \"sum_predictions\": sum_predictions\n",
    "        }\n",
    "    pickle.dump(dckrr_ckpt, \n",
    "                open(\"results/DC-KRR/checkpoints/CKPT_anderson_fps_alpha0_gamma0.01.pkl\", \"wb\" )\n",
    "               )\n"
   ]
  },
  {
   "cell_type": "code",
   "execution_count": 16,
   "metadata": {},
   "outputs": [
    {
     "name": "stderr",
     "output_type": "stream",
     "text": [
      "2020-09-24 16:58:54,113 INFO    [<ipython-input-16-d4e4c01b6672>:8] \n",
      "All 12/12 subsets with 47964 trials/subset trained and averaged. Total time: 731 seconds\n"
     ]
    }
   ],
   "source": [
    "#--------------------------------\n",
    "# THIS IS THE FINAL PREDICTION!!!\n",
    "#--------------------------------\n",
    "averaged_predictions = sum_predictions / number_subsets\n",
    "\n",
    "fit_time = time.time() - time_start\n",
    "log.info(\"\\nAll %d/%d subsets with %d trials/subset trained and averaged. Total time: %.3g seconds\" \n",
    "% (s+1, number_subsets, subset_size, fit_time)\n",
    "        )    "
   ]
  },
  {
   "cell_type": "markdown",
   "metadata": {},
   "source": [
    "#### Compute and sort errors. "
   ]
  },
  {
   "cell_type": "code",
   "execution_count": 17,
   "metadata": {},
   "outputs": [],
   "source": [
    "errors = np.mean(np.abs(val_targets - averaged_predictions), axis=1)\n",
    "sorted_errors = []\n",
    "for ii in range(len(errors)):\n",
    "  sorted_errors.append([ii, val_targets[ii], averaged_predictions[ii], errors[ii]])\n",
    "\n",
    "sorted_errors.sort(key=lambda x: x[3])"
   ]
  },
  {
   "cell_type": "markdown",
   "metadata": {},
   "source": [
    "## Plot Results"
   ]
  },
  {
   "cell_type": "code",
   "execution_count": 18,
   "metadata": {},
   "outputs": [
    {
     "data": {
      "image/png": "[encoded data removed]",
      "text/plain": [
       "<Figure size 1800x1200 with 1 Axes>"
      ]
     },
     "metadata": {
      "needs_background": "light"
     },
     "output_type": "display_data"
    }
   ],
   "source": [
    "plt.clf()\n",
    "#krr_err_hist_name='hist' + save_Name + '.png'\n",
    "\n",
    "y_Height = 0.05 * len(errors)\n",
    "mean = np.log10(np.mean(errors))\n",
    "median = np.log10(np.median(errors))\n",
    "\n",
    "plt.hist(np.log10(errors), bins=60, color='k')\n",
    "for ii in range(1, 10):\n",
    "    x = np.log10(np.percentile(errors, ii*10))\n",
    "    plt.plot((x, x), (0, y_Height), color='r', label=\"Deciles\" if ii == 1 else None)\n",
    "plt.plot((mean, mean), (0, y_Height), color='orange', label=f\"Mean: {mean:.05g}\")\n",
    "plt.plot((median, median), (0, y_Height), color='b', label=f\"Median: {median:.05g}\")\n",
    "\n",
    "plt.title(\"%d Anderson Trials DC-KRR MAE\\n%d subsets w/%d trials each\" % \n",
    "          (len(errors), number_subsets, subset_size),\n",
    "          fontsize=10\n",
    "         )\n",
    "plt.xlabel(\"$log_{10}(\\mathrm{MAE})$\")\n",
    "plt.ylabel(\"Occurances\")\n",
    "plt.legend(loc=\"upper left\", frameon=False)\n",
    "\n",
    "#plt.savefig(krr_err_hist_name, dpi=300, bbox_inches='tight')\n",
    "plt.show()"
   ]
  },
  {
   "cell_type": "markdown",
   "metadata": {},
   "source": [
    "## Save relevant information"
   ]
  },
  {
   "cell_type": "code",
   "execution_count": 19,
   "metadata": {},
   "outputs": [],
   "source": [
    "dckrr_info = {\n",
    "    \"set\": \"anderson\",\n",
    "    \"sampling\": \"fps\",\n",
    "    \"alpha\": alpha,\n",
    "    \"gamma\": gamma,\n",
    "    \"tr_set_size\": len(tr_features),\n",
    "    \"number_subsets\": number_subsets,\n",
    "    \"val_set_size\": len(val_features),\n",
    "    \"trained_weights\": alpha_weights,\n",
    "    \"fit_time\": fit_time,\n",
    "    \"sorted_errors\": sorted_errors,\n",
    "    \"costs\": iter_costs\n",
    "}"
   ]
  },
  {
   "cell_type": "markdown",
   "metadata": {},
   "source": [
    "### MODIFY THIS CELL TO ENSURE YOU DO NOT OVERWRITE A PREVIOUS SAVE. "
   ]
  },
  {
   "cell_type": "code",
   "execution_count": 20,
   "metadata": {},
   "outputs": [],
   "source": [
    "pickle.dump(dckrr_info, open(\"results/DC-KRR/anderson_full_alpha0_gamma0.01_subsets12.pkl\", \"wb\" ))"
   ]
  },
  {
   "cell_type": "code",
   "execution_count": null,
   "metadata": {},
   "outputs": [],
   "source": []
  }
 ],
 "metadata": {
  "kernelspec": {
   "display_name": "Python 3",
   "language": "python",
   "name": "python3"
  },
  "language_info": {
   "codemirror_mode": {
    "name": "ipython",
    "version": 3
   },
   "file_extension": ".py",
   "mimetype": "text/x-python",
   "name": "python",
   "nbconvert_exporter": "python",
   "pygments_lexer": "ipython3",
   "version": "3.6.10"
  }
 },
 "nbformat": 4,
 "nbformat_minor": 4
}
